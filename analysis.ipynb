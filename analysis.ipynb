{
 "cells": [
  {
   "cell_type": "code",
   "execution_count": 20,
   "metadata": {},
   "outputs": [],
   "source": [
    "# create studentroll-name-allocation csv fimax_matching_datae-mappings.csv\n",
    "\n",
    "#from f1.csv\n",
    "import pandas as pd\n",
    "\n",
    "# Define the input and output fimax_matching_datae names\n",
    "input1 = \"final_allocation_1.csv\"\n",
    "input2 = \"final_allocation_2.csv\"\n",
    "input3 = \"final_allocation_3.csv\"\n",
    "input4 = \"final_allocation_4.csv\"\n",
    "input5 = \"final_allocation_5.csv\"\n",
    "output_filename = \"final_mappings_lastyear.csv\"\n",
    "\n",
    "\n",
    "# Read the input CSV file into a pandas DataFrame\n",
    "input_df1 = pd.read_csv(input1)\n",
    "input_df2 = pd.read_csv(input2)\n",
    "input_df3 = pd.read_csv(input3)\n",
    "input_df4 = pd.read_csv(input4)\n",
    "input_df5 = pd.read_csv(input5)\n",
    "\n",
    "\n",
    "# Extract specific columns (Roll No, Name of Student, Allocation)\n",
    "columns_to_extract = [\"Roll No\", \"Name of Student\", \"Allocation\"]\n",
    "output_df1 = input_df1[columns_to_extract]\n",
    "output_df2 = input_df2[columns_to_extract]\n",
    "output_df3 = input_df3[columns_to_extract]\n",
    "output_df4 = input_df4[input_df4[\"Eligible for TAship\"] == \"Yes\"][columns_to_extract]\n",
    "output_df5 = input_df5[input_df5[\"Eligible for TAship\"] == \"Yes\"][columns_to_extract]\n",
    "\n",
    "\n",
    "# Write the extracted data to the output CSV file\n",
    "output_df1.to_csv(output_filename, index=False)\n",
    "output_df2.to_csv(output_filename, mode='a', header=False, index=False)\n",
    "output_df3.to_csv(output_filename, mode='a', header=False, index=False)\n",
    "output_df4.to_csv(output_filename, mode='a', header=False, index=False)\n",
    "output_df5.to_csv(output_filename, mode='a', header=False, index=False)\n",
    "\n",
    "\n",
    "\n",
    "\n",
    "\n"
   ]
  },
  {
   "cell_type": "code",
   "execution_count": 21,
   "metadata": {},
   "outputs": [
    {
     "name": "stdout",
     "output_type": "stream",
     "text": [
      "25\n"
     ]
    }
   ],
   "source": [
    "import pandas as pd\n",
    "from fuzzywuzzy import fuzz\n",
    "\n",
    "# Function to calculate the percent match between two names\n",
    "def name_similarity(name1, name2):\n",
    "    return fuzz.ratio(name1, name2)\n",
    "\n",
    "# Read the first CSV file\n",
    "df1 = pd.read_csv('final_mappings_lastyear.csv')\n",
    "\n",
    "# Create a mapping of names to Roll No from the first CSV file\n",
    "name_to_roll = {row['Name of Student']: row['Roll No'] for index, row in df1.iterrows()}\n",
    "\n",
    "\n",
    "\n",
    "# Read the second CSV file\n",
    "df2 = pd.read_csv('courses_info_name.csv')\n",
    "count_no_of_courses=0 #\n",
    "# # Process the data from the second CSV file\n",
    "result_data = []\n",
    "for index, row in df2.iterrows():\n",
    "    course = row['Course']\n",
    "    ta = row['TA']\n",
    "    names = row['Names']\n",
    "    matching_roll_no = None\n",
    "    if not pd.isna(names) and names != \"None\":\n",
    "        names = names.split('-')\n",
    "        count_no_of_courses+=1\n",
    "        for name in names:\n",
    "            name = name.strip()  # Remove leading/trailing spaces\n",
    "            best_match_score=0\n",
    "            best_match_name=None\n",
    "            for mapped_name in name_to_roll:\n",
    "                similarity_score = name_similarity(name, mapped_name)\n",
    "                if similarity_score > best_match_score:\n",
    "                    best_match_name = mapped_name\n",
    "                    best_match_score = similarity_score\n",
    "            if best_match_name is not None:\n",
    "                matching_roll_no = name_to_roll[best_match_name]\n",
    "            result_data.append([course,ta,matching_roll_no])\n",
    "\n",
    "\n",
    "# Create a DataFrame for the result\n",
    "result_df = pd.DataFrame(result_data, columns=['Course', 'TA', 'Roll No'])\n",
    "print(count_no_of_courses)\n",
    "# Write the result to a third CSV file\n",
    "result_df.to_csv('course_requests_info_roll.csv', index=False)\n"
   ]
  },
  {
   "cell_type": "code",
   "execution_count": 22,
   "metadata": {},
   "outputs": [
    {
     "name": "stdout",
     "output_type": "stream",
     "text": [
      "{('S1', 'C1_0'), ('S3', 'C3_0'), ('S2', 'C2_0')}\n",
      "300\n"
     ]
    }
   ],
   "source": [
    "## Verification of Code Maximum Matching\n",
    "import numpy as np\n",
    "from my_matching import *\n",
    "import networkx as nx\n",
    "n=3\n",
    "matrix = np.random.randint(50, 91, (n, n))\n",
    "np.fill_diagonal(matrix, 100)\n",
    "# for col in range(n):\n",
    "#     np.random.shuffle(matrix[:, col])\n",
    "matrix_dict = {}\n",
    "vacancies={}\n",
    "for row_number, row_values in enumerate(matrix):\n",
    "    row_dict = {f'S{col+1}': value for col, value in enumerate(row_values)}\n",
    "    matrix_dict[f'C{row_number+1}'] = row_dict\n",
    "    vacancies[f'C{row_number+1}']=1\n",
    "\n",
    "match,max_weight=matching(matrix_dict,vacancies)\n",
    "print(match)\n",
    "print(max_weight)\n",
    "# print(vacancies)\n"
   ]
  },
  {
   "cell_type": "code",
   "execution_count": 23,
   "metadata": {},
   "outputs": [
    {
     "name": "stdout",
     "output_type": "stream",
     "text": [
      "['194050015', '22m0760', '22M0783', '22M0750', '22M0757']\n"
     ]
    }
   ],
   "source": [
    "df = pd.read_csv('course_requests_info_roll.csv')\n",
    "\n",
    "# Create a dictionary with course names as keys and lists of roll numbers as values\n",
    "course_imp = {}\n",
    "for index, row in df.iterrows():\n",
    "    course = row['Course']\n",
    "    roll_no = row['Roll No']\n",
    "    \n",
    "    if course in course_imp:\n",
    "        course_imp[course].append(roll_no)\n",
    "    else:\n",
    "        course_imp[course] = [roll_no]\n",
    "df1= pd.read_csv('courses_info_name.csv')\n",
    "for index, row in df1.iterrows():\n",
    "    course=row['Course']\n",
    "    if course not in course_imp:\n",
    "        course_imp[course]=[]\n",
    "\n",
    "print(course_imp['CS101'])"
   ]
  },
  {
   "cell_type": "code",
   "execution_count": 24,
   "metadata": {},
   "outputs": [],
   "source": [
    "import random\n",
    "random.seed(0)\n",
    "df1=pd.read_csv('final_mappings_lastyear.csv')\n",
    "df2=pd.read_csv('courses_info_name.csv')\n",
    "rolls=list(df1['Roll No'])\n",
    "courses=list(df2['Course'])\n",
    "vacancies=list(df2['TA'])\n",
    "course_vacancies={}\n",
    "course_preferences={}\n",
    "for i in range(len(courses)):\n",
    "    course_vacancies[courses[i]]=vacancies[i]\n",
    "\n",
    "for c in courses:\n",
    "    dict_for_course_c={}\n",
    "    count=course_vacancies[c]*100\n",
    "    m=0\n",
    "    for j in rolls:\n",
    "        dict_for_course_c[j]=0\n",
    "        if j in course_imp[c]:\n",
    "            m+=1\n",
    "    n=course_vacancies[c]-m\n",
    "    if n<0:\n",
    "        for k in course_imp[c]:\n",
    "            dict_for_course_c[k]=count/m\n",
    "    elif n==0 or m==0:\n",
    "        for k in rolls:\n",
    "            dict_for_course_c[k]=100\n",
    "    else:\n",
    "        a=100-20*(m/n)\n",
    "        if a<80:\n",
    "            a=80\n",
    "        # print(m,n,a,c)\n",
    "        random_number = random.randint(int(a), 100)\n",
    "        for k in rolls:\n",
    "            if k in course_imp[c]:\n",
    "                dict_for_course_c[k]=100+(100-random_number)*(n/m)\n",
    "            else:\n",
    "                dict_for_course_c[k]=random_number\n",
    "    course_preferences[c]=dict_for_course_c\n",
    "\n"
   ]
  },
  {
   "cell_type": "code",
   "execution_count": 25,
   "metadata": {},
   "outputs": [
    {
     "name": "stdout",
     "output_type": "stream",
     "text": [
      "{('214050005', 'CS152_8'), ('23M0778', 'CS310_3'), ('204050003', 'DeptWork_2'), ('22D0377', 'CS154_1'), ('23M0801', 'CS207_2'), ('214050007', 'CS154_3'), ('23M0814', 'CS230_10'), ('22M0788', 'CS101_51'), ('214050006', 'CS152_9'), ('22M0765', 'CS101_18'), ('22M0807', 'CS337_3'), ('23M0769', 'CS310_7'), ('22M0813', 'CS101_31'), ('CS101_0', '23M2101'), ('22M0806', 'CS101_48'), ('22M0792', 'CS101_27'), ('23M0795', 'CS215_4'), ('23M2105', 'CS101_65'), ('23M0748', 'CS663_2'), ('23D0362', 'CS154_12'), ('23M0765', 'CS224M_3'), ('22M0766', 'CS725_2'), ('23M0799', 'CS207_3'), ('22M0798', 'CS101_12'), ('22m0760', 'CS101_3'), ('22m0772', 'CS101_36'), ('194052001', 'DeptWork_1'), ('23M0786', 'CS232_11'), ('23M0768', 'CS215_7'), ('23M0810', 'CS232_0'), ('204050001', 'CS152_0'), ('22M0779', 'CS725_3'), ('21Q050010', 'CS101_22'), ('21Q050001', 'CS101_58'), ('22M0752', 'CS347_4'), ('23M0806', 'CS207_5'), ('22M0755', 'CS101_9'), ('23M0779', 'CS310_2'), ('22M2108', 'CS101_11'), ('23M0747', 'CS218M_2'), ('23M0763', 'CS215_1'), ('22D0362', 'CS152_5'), ('194050010', 'CS747_2'), ('22D0367', 'CS152_1'), ('22M0776', 'CS101_8'), ('CS337_0', '21Q050014'), ('23M0813', 'CS228M_3'), ('23M0788', 'CS232_9'), ('23M0820', 'CS207_1'), ('23M0821', 'CS228M_2'), ('194050004', 'CS154_5'), ('23d0373', 'CS154_7'), ('23M0754', 'CS230_6'), ('21Q050012', 'CS781_0'), ('23M0797', 'CS224M_5'), ('23M2104', 'CS101_66'), ('23M0743', 'CS663_5'), ('23D0374', 'CS213_1'), ('CS6001_0', '22M2106'), ('22D0368', 'CS747_1'), ('22M0814', 'CS101_44'), ('194050015', 'CS101_1'), ('23M0752', 'CS215_2'), ('22M2101', 'CS337_2'), ('194050006', 'CS213_0'), ('23M0753', 'CS230_3'), ('22M0749', 'CS101_35'), ('22D0361', 'InstiWebteam_0'), ('22D0371', 'CS347_1'), ('23M0798', 'CS228M_4'), ('CS347_0', '22M0790'), ('23M2108', 'CS101_62'), ('23M0775', 'CS310_5'), ('22M2111', 'CS741_0'), ('21Q050008', 'CS101_28'), ('22M0782', 'CS347_6'), ('23M0794', 'CS218M_0'), ('194050011', 'CS154_4'), ('21Q050017', 'CS101_26'), ('23D0381', 'CS154_6'), ('204050008', 'CS105_2'), ('204050010', 'BodhiTree_0'), ('22M0791', 'CS101_50'), ('194050014', 'CS152_3'), ('22M0783', 'CS101_2'), ('23M0812', 'CS230_11'), ('194050002', 'CS152_7'), ('22M0744', 'CS101_16'), ('22M0751', 'CS101_56'), ('22M0784', 'CS293_4'), ('22M0769', 'CS101_33'), ('22M0763', 'CS101_34'), ('214050008', 'CS152_6'), ('22M0808', 'CS347_9'), ('22m0809', 'CS101_47'), ('22m0756', 'CS101_24'), ('23D0365', 'CS154_9'), ('22M0812', 'CS101_45'), ('194050003', 'CS152_12'), ('23M0784', 'CS215_5'), ('22M0789', 'CS347_7'), ('194050012', 'CS337_1'), ('22m2113', 'CS347_5'), ('204050004', 'SysadTA_1'), ('23M0770', 'CS310_6'), ('22D0366', 'CS152_11'), ('23M0807', 'CS213_2'), ('194050013', 'SysadTA_0'), ('23M0774', 'CS215_6'), ('23M0767', 'CS602_0'), ('22M0787', 'CS101_52'), ('23M0759', 'CS614_0'), ('22M0799', 'CS101_49'), ('23M0744', 'CS215_0'), ('23M0756', 'CS230_5'), ('CS105_0', '22M0795'), ('23M0809', 'CS232_1'), ('22M0770', 'CS768_0'), ('22m0758', 'CS347_11'), ('23M0751', 'CS663_0'), ('21Q050004', 'CS101_20'), ('23M0808', 'CS232_2'), ('22M2109', 'CS347_8'), ('22M0764', 'CS101_19'), ('23M0761', 'CS604_0'), ('22m0767', 'CS725_4'), ('CS475_0', '23M0758'), ('23M2102', 'CS101_68'), ('22M0817', 'CS725_1'), ('23M0803', 'CS215_3'), ('23M0755', 'CS218M_1'), ('23M0811', 'CS230_12'), ('23M0805', 'CS232_3'), ('23M0793', 'CS232_6'), ('22M0753', 'CS101_55'), ('22M0741', 'CS101_39'), ('22M0815', 'CS101_15'), ('22M0759', 'CS683_0'), ('214050009', 'CS154_2'), ('23M0802', 'CS232_5'), ('CS293_0', '22M0774'), ('23M0771', 'CS207_7'), ('22D0382', 'CS154_0'), ('22m0800', 'CS758_0'), ('22M2114', 'CS101_40'), ('21Q050005', 'CS101_57'), ('21Q050016', 'CS774_0'), ('22M0821', 'CS101_5'), ('23M0782', 'CS310_0'), ('22M0811', 'CS101_46'), ('23M2109', 'CS101_61'), ('23M0818', 'CS230_7'), ('22M0816', 'CS101_43'), ('23M0741', 'CS228M_1'), ('22m0829', 'CS101_42'), ('22M2105', 'CS6001_1'), ('CS747_0', '23M0773'), ('23M0796', 'CS207_4'), ('22m0747', 'CS101_10'), ('22M0762', 'CS101_54'), ('DeptWork_0', '22M2110'), ('22M0778', 'CS101_21'), ('23M0819', 'CS224M_4'), ('22M0743', 'CS337_6'), ('23M0772', 'CS230_1'), ('23M0815', 'CS230_4'), ('22M0773', 'CS101_23'), ('23M2110', 'CS101_60'), ('22M0777', 'CS101_7'), ('23M0742', 'CS725_0'), ('21Q050003', 'CS347_12'), ('22M2115', 'CS725_7'), ('23M0777', 'CS310_4'), ('22M0804', 'CS101_14'), ('22D0363', 'CS152_2'), ('22M0748', 'CS101_25'), ('22M2104', 'CS101_41'), ('21Q050015', 'CS213_3'), ('23M0816', 'CS230_9'), ('22m2112', 'CS293_3'), ('214050004', 'BodhiTree_1'), ('23M0785', 'CS232_12'), ('214050010', 'CS152_10'), ('22D0369', 'KVportal_0'), ('23M2107', 'CS101_63'), ('23D0364', 'CS154_10'), ('22M0750', 'CS101_75'), ('23M2103', 'CS101_67'), ('22m0780', 'CS101_53'), ('23M0791', 'CS228M_0'), ('22m0745', 'CS101_29'), ('23M0746', 'CS663_3'), ('22M2103', 'CS101_17'), ('22M0803', 'CS105_3'), ('23d0361', 'CS207_0'), ('23M0776', 'CS224M_2'), ('23M0749', 'CS224M_0'), ('194053001', 'CSEWebteam_0'), ('23M0781', 'CS207_6'), ('22M0754', 'CS101_37'), ('22M0793', 'CS101_38'), ('23M0762', 'CS218M_3'), ('23M0804', 'CS232_4'), ('22M0801', 'CS337_7'), ('194050001', 'CS347_2'), ('23M0792', 'CS232_7'), ('23D0366', 'CS154_8'), ('194054001', 'CS105_1'), ('23D0363', 'CS154_11'), ('22M0771', 'CS337_5'), ('22D0376', 'CS347_3'), ('23M0800', 'CS224M_1'), ('23M0760', 'CS230_2'), ('23M0787', 'CS232_10'), ('22M0810', 'CS725_5'), ('23M0757', 'CS635_0'), ('23M0766', 'CS602_1'), ('22m0796', 'CS101_32'), ('21Q050007', 'CS683_1'), ('22M0781', 'CS101_6'), ('22m0742', 'CS771_0'), ('22M0757', 'CS101_4'), ('23M0817', 'CS230_8'), ('23M0783', 'CS230_0'), ('22M0746', 'CS725_6'), ('23M2106', 'CS101_64'), ('23M0789', 'CS293_1'), ('23M0780', 'CS310_1'), ('22m2107', 'CS101_30'), ('21Q050006', 'CS293_2'), ('23M0750', 'CS663_1'), ('23M0790', 'CS232_8'), ('204050007', 'CSEWebteam_1'), ('22M0802', 'CS337_4'), ('23M0764', 'CS475_1'), ('23M2112', 'CS101_59'), ('21Q050009', 'CS101_13'), ('22M0761', 'CS347_10'), ('22D0364', 'CS152_4'), ('23M0745', 'CS663_4')}\n",
      "20336.16300366301\n"
     ]
    }
   ],
   "source": [
    "from my_matching import *\n",
    "m,w=matching(course_preferences,course_vacancies)\n",
    "\n",
    "print(m)\n",
    "import pandas as pd\n",
    "alloted_weight=0\n",
    "# Assuming the CSV file is named 'your_file.csv'\n",
    "df = pd.read_csv('final_mappings_lastyear.csv')\n",
    "\n",
    "for index, row in df.iterrows():\n",
    "    course = row['Allocation']\n",
    "    if course in courses:\n",
    "        roll_no = row['Roll No']\n",
    "        alloted_weight+=course_preferences[course][roll_no]\n",
    "    # print(f\"Course: {course}, Roll No: {roll_no}\")\n",
    "print(alloted_weight)\n",
    "\n"
   ]
  },
  {
   "cell_type": "code",
   "execution_count": 26,
   "metadata": {},
   "outputs": [],
   "source": [
    "max_matching_data=[] # strictly in the format roll,allocation\n",
    "for t in m:\n",
    "    if t[0][0]!='1' and t[0][0]!='2':\n",
    "        max_matching_data.append([t[0],t[1]])\n",
    "    else:\n",
    "        max_matching_data.append([t[1],t[0]])\n",
    "\n",
    "\n",
    "# Remove the part after the underscore in course names\n",
    "data = [[course.split('_')[0], course_code] for course, course_code in max_matching_data]\n",
    "\n",
    "# Create a DataFrame from the modified data\n",
    "df = pd.DataFrame(data, columns=['Course', 'Roll No'])\n",
    "\n",
    "# Write the DataFrame to a CSV file\n",
    "csv_file = 'output_by_maximum_matching.csv'\n",
    "df.to_csv(csv_file, index=False)\n",
    "        "
   ]
  },
  {
   "cell_type": "code",
   "execution_count": 27,
   "metadata": {},
   "outputs": [
    {
     "name": "stdout",
     "output_type": "stream",
     "text": [
      "118\n",
      "60\n",
      "69\n"
     ]
    }
   ],
   "source": [
    "\n",
    "import pandas as pd\n",
    "df1=pd.read_csv(\"course_requests_info_roll.csv\")\n",
    "df2=pd.read_csv(\"output_by_maximum_matching.csv\")\n",
    "df3=pd.read_csv(\"final_mappings_lastyear.csv\")\n",
    "courses_list=list(set(df1[\"Course\"]))\n",
    "rolls=list(df1['Roll No'])\n",
    "total_data=[]\n",
    "requests=0\n",
    "alloted_before=0\n",
    "alloted_matching=0\n",
    "for c in courses_list:\n",
    "    count1=0\n",
    "    count2=0\n",
    "    for r in course_imp[c]:\n",
    "        if df1[df1['Roll No']==r].iloc[0,0] == df2[df2['Roll No'] == r].iloc[0,0]:\n",
    "            count1+=1\n",
    "        if df1[df1['Roll No']==r].iloc[0,0] == df3[df3['Roll No'] == r].iloc[0,2]:\n",
    "            count2+=1\n",
    "    requests+=len(course_imp[c])\n",
    "    alloted_before+=count2\n",
    "    alloted_matching+=count1\n",
    "    total_data.append([c,len(course_imp[c]),count2,count1])\n",
    "    \n",
    "    # print(f\"Course name:{c} Requests:{len(course_imp[c])} Originally Allocated:{count2} Allocated By Matching:{count1}\\n\")\n",
    "\n",
    "result_df = pd.DataFrame(total_data, columns=['Course', 'No of Requests', 'Originally Allocated last year','Allocated by Maxium Matching'])\n",
    "\n",
    "result_df.to_csv('analysis.csv', index=False)\n",
    "print(requests)\n",
    "print(alloted_before)\n",
    "print(alloted_matching)\n"
   ]
  },
  {
   "cell_type": "code",
   "execution_count": 28,
   "metadata": {},
   "outputs": [
    {
     "name": "stdout",
     "output_type": "stream",
     "text": [
      "Roll No: 214050006 Not Allocated, Given weight 100\n",
      "Allocated to CS152 weight 100\n",
      "Roll No: 194050006 Not Allocated, Given weight 100\n",
      "Allocated to CS213 weight 120.0\n",
      "Roll No: 22M2106 Not Allocated, Given weight 100\n",
      "Allocated to CS6001 weight 105.33333333333333\n",
      "Roll No: 22M0801 Not Allocated, Given weight 100\n",
      "Allocated to CS337 weight 105.0\n",
      "Roll No: 22M0815 Not Allocated, Given weight 100\n",
      "Allocated to CS101 weight 99\n",
      "Roll No: 23M2108 Not Allocated, Given weight 100\n",
      "Allocated to CS101 weight 99\n"
     ]
    }
   ],
   "source": [
    "c='CS224M'\n",
    "df1 = pd.read_csv('course_requests_info_roll.csv')\n",
    "df2 = pd.read_csv('output_by_maximum_matching.csv')\n",
    "rolls = list(df1[df1['Course'] ==c]['Roll No'])\n",
    "\n",
    "for i in rolls:\n",
    "    s = df2[df2['Roll No'] == i]['Course']\n",
    "    \n",
    "    if not s.empty and s.iloc[0] == c:  # Check if s is not empty and the course is 'CS101'\n",
    "        print(\"Roll No:\", i, \"Allocated\")\n",
    "    else:\n",
    "        w2 = course_preferences[s.iloc[0]][i]\n",
    "        w1 = course_preferences[c][i]\n",
    "        print(\"Roll No:\", i, \"Not Allocated, Given weight\", w1)\n",
    "        print(f\"Allocated to {s.iloc[0]} weight\", w2)\n"
   ]
  }
 ],
 "metadata": {
  "kernelspec": {
   "display_name": "Python 3",
   "language": "python",
   "name": "python3"
  },
  "language_info": {
   "codemirror_mode": {
    "name": "ipython",
    "version": 3
   },
   "file_extension": ".py",
   "mimetype": "text/x-python",
   "name": "python",
   "nbconvert_exporter": "python",
   "pygments_lexer": "ipython3",
   "version": "3.9.6"
  }
 },
 "nbformat": 4,
 "nbformat_minor": 2
}
