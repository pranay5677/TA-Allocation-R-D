{
 "cells": [
  {
   "cell_type": "code",
   "execution_count": 14,
   "metadata": {},
   "outputs": [],
   "source": [
    "# create studentroll-name-allocation csv file-mappings.csv\n",
    "\n",
    "#from f1.csv\n",
    "import pandas as pd\n",
    "\n",
    "# Define the input and output file names\n",
    "input1 = \"f1.csv\"\n",
    "input2 = \"f2.csv\"\n",
    "input3 = \"f3.csv\"\n",
    "input4 = \"f4.csv\"\n",
    "input5 = \"f5.csv\"\n",
    "output_filename = \"mappings.csv\"\n",
    "\n",
    "\n",
    "# Read the input CSV file into a pandas DataFrame\n",
    "input_df1 = pd.read_csv(input1)\n",
    "input_df2 = pd.read_csv(input2)\n",
    "input_df3 = pd.read_csv(input3)\n",
    "input_df4 = pd.read_csv(input4)\n",
    "input_df5 = pd.read_csv(input5)\n",
    "\n",
    "\n",
    "# Extract specific columns (Roll No, Name of Student, Allocation)\n",
    "columns_to_extract = [\"Roll No\", \"Name of Student\", \"Allocation\"]\n",
    "output_df1 = input_df1[columns_to_extract]\n",
    "output_df2 = input_df2[columns_to_extract]\n",
    "output_df3 = input_df3[columns_to_extract]\n",
    "output_df4 = input_df4[input_df4[\"Eligible for TAship\"] == \"Yes\"][columns_to_extract]\n",
    "output_df5 = input_df5[input_df5[\"Eligible for TAship\"] == \"Yes\"][columns_to_extract]\n",
    "\n",
    "\n",
    "# Write the extracted data to the output CSV file\n",
    "output_df1.to_csv(output_filename, index=False)\n",
    "output_df2.to_csv(output_filename, mode='a', header=False, index=False)\n",
    "output_df3.to_csv(output_filename, mode='a', header=False, index=False)\n",
    "output_df4.to_csv(output_filename, mode='a', header=False, index=False)\n",
    "output_df5.to_csv(output_filename, mode='a', header=False, index=False)\n",
    "\n",
    "\n",
    "\n",
    "\n",
    "\n"
   ]
  },
  {
   "cell_type": "code",
   "execution_count": 15,
   "metadata": {},
   "outputs": [
    {
     "name": "stdout",
     "output_type": "stream",
     "text": [
      "25\n"
     ]
    }
   ],
   "source": [
    "import pandas as pd\n",
    "from fuzzywuzzy import fuzz\n",
    "\n",
    "# Function to calculate the percent match between two names\n",
    "def name_similarity(name1, name2):\n",
    "    return fuzz.ratio(name1, name2)\n",
    "\n",
    "# Read the first CSV file\n",
    "df1 = pd.read_csv('mappings.csv')\n",
    "\n",
    "# Create a mapping of names to Roll No from the first CSV file\n",
    "name_to_roll = {row['Name of Student']: row['Roll No'] for index, row in df1.iterrows()}\n",
    "\n",
    "\n",
    "\n",
    "# Read the second CSV file\n",
    "df2 = pd.read_csv('courses_info_name.csv')\n",
    "count=0\n",
    "# # Process the data from the second CSV file\n",
    "result_data = []\n",
    "for index, row in df2.iterrows():\n",
    "    course = row['Course']\n",
    "    ta = row['TA']\n",
    "    names = row['Names']\n",
    "    matching_roll_no = None\n",
    "    if not pd.isna(names) and names != \"None\":\n",
    "        names = names.split('-')\n",
    "        count+=1\n",
    "        for name in names:\n",
    "            name = name.strip()  # Remove leading/trailing spaces\n",
    "            best_match_score=0\n",
    "            best_match_name=None\n",
    "            for mapped_name in name_to_roll:\n",
    "                similarity_score = name_similarity(name, mapped_name)\n",
    "                if similarity_score > best_match_score:\n",
    "                    best_match_name = mapped_name\n",
    "                    best_match_score = similarity_score\n",
    "            if best_match_name is not None:\n",
    "                matching_roll_no = name_to_roll[best_match_name]\n",
    "            result_data.append([course,ta,matching_roll_no])\n",
    "\n",
    "\n",
    "# Create a DataFrame for the result\n",
    "result_df = pd.DataFrame(result_data, columns=['Course', 'TA', 'Roll No'])\n",
    "print(count)\n",
    "# Write the result to a third CSV file\n",
    "result_df.to_csv('course_info_roll.csv', index=False)\n"
   ]
  },
  {
   "cell_type": "code",
   "execution_count": 49,
   "metadata": {},
   "outputs": [
    {
     "name": "stdout",
     "output_type": "stream",
     "text": [
      "{('S1', 'C1_0'), ('S2', 'C2_0'), ('S3', 'C3_0')}\n",
      "300\n"
     ]
    }
   ],
   "source": [
    "## Verification of Code Maximum Matching\n",
    "import numpy as np\n",
    "from my_matching import *\n",
    "import networkx as nx\n",
    "n=3\n",
    "matrix = np.random.randint(50, 91, (n, n))\n",
    "np.fill_diagonal(matrix, 100)\n",
    "# for col in range(n):\n",
    "#     np.random.shuffle(matrix[:, col])\n",
    "matrix_dict = {}\n",
    "vacancies={}\n",
    "for row_number, row_values in enumerate(matrix):\n",
    "    row_dict = {f'S{col+1}': value for col, value in enumerate(row_values)}\n",
    "    matrix_dict[f'C{row_number+1}'] = row_dict\n",
    "    vacancies[f'C{row_number+1}']=1\n",
    "\n",
    "match,max_weight=matching(matrix_dict,vacancies)\n",
    "print(match)\n",
    "print(max_weight)\n",
    "# print(vacancies)\n"
   ]
  },
  {
   "cell_type": "code",
   "execution_count": 16,
   "metadata": {},
   "outputs": [
    {
     "name": "stdout",
     "output_type": "stream",
     "text": [
      "[]\n"
     ]
    }
   ],
   "source": [
    "df = pd.read_csv('course_info_roll.csv')\n",
    "\n",
    "# Create a dictionary with course names as keys and lists of roll numbers as values\n",
    "course_imp = {}\n",
    "for index, row in df.iterrows():\n",
    "    course = row['Course']\n",
    "    roll_no = row['Roll No']\n",
    "    \n",
    "    if course in course_imp:\n",
    "        course_imp[course].append(roll_no)\n",
    "    else:\n",
    "        course_imp[course] = [roll_no]\n",
    "df1= pd.read_csv('courses_info_name.csv')\n",
    "for index, row in df1.iterrows():\n",
    "    course=row['Course']\n",
    "    if course not in course_imp:\n",
    "        course_imp[course]=[]\n",
    "\n",
    "print(course_imp['DeptWork'])"
   ]
  },
  {
   "cell_type": "code",
   "execution_count": 50,
   "metadata": {},
   "outputs": [],
   "source": [
    "import random\n",
    "df1=pd.read_csv('mappings.csv')\n",
    "df2=pd.read_csv('courses_info_name.csv')\n",
    "rolls=list(df1['Roll No'])\n",
    "courses=list(df2['Course'])\n",
    "vacancies=list(df2['TA'])\n",
    "d1={}\n",
    "d2={}\n",
    "for i in range(len(courses)):\n",
    "    d1[courses[i]]=vacancies[i]\n",
    "for c in courses:\n",
    "    temp={}\n",
    "    count=d1[c]*100\n",
    "    m=0\n",
    "    for j in rolls:\n",
    "        temp[j]=0\n",
    "        if j in course_imp[c]:\n",
    "            m+=1\n",
    "    n=d1[c]-m\n",
    "    if n<0:\n",
    "        for k in course_imp[c]:\n",
    "            temp[k]=count/m\n",
    "    elif n==0 or m==0:\n",
    "        for k in rolls:\n",
    "            temp[k]=100\n",
    "    else:\n",
    "        a=100-20*(m/n)\n",
    "        if a<80:\n",
    "            a=80\n",
    "        # print(m,n,a,c)\n",
    "        random_number = random.randint(int(a), 100)\n",
    "        for k in rolls:\n",
    "            if k in course_imp[c]:\n",
    "                temp[k]=100+(100-random_number)*(n/m)\n",
    "            else:\n",
    "                temp[k]=random_number\n",
    "    d2[c]=temp\n",
    "\n"
   ]
  },
  {
   "cell_type": "code",
   "execution_count": 51,
   "metadata": {},
   "outputs": [
    {
     "name": "stdout",
     "output_type": "stream",
     "text": [
      "{('22M0806', 'CS101_41'), ('22M0795', 'CS101_32'), ('23M0797', 'CS293_12'), ('204050004', 'SysadTA_1'), ('22m0742', 'CS725_1'), ('CS747_0', '23M0773'), ('DeptWork_0', '21Q050009'), ('194053001', 'CSEWebteam_0'), ('23M2105', 'CS101_58'), ('22m0758', 'CS347_11'), ('23M0755', 'CS293_4'), ('23M0805', 'CS230_5'), ('22m0809', 'CS101_40'), ('23M0794', 'CS293_3'), ('194052001', 'DeptWork_1'), ('22m2107', 'CS101_21'), ('23M0766', 'CS232_11'), ('23M0796', 'CS154_11'), ('22M0741', 'CS101_30'), ('23M0764', 'CS475_1'), ('21Q050010', 'CS101_13'), ('22m0767', 'CS635_0'), ('23M0747', 'CS293_5'), ('23M0770', 'CS232_8'), ('23M0795', 'CS207_7'), ('22M0798', 'CS781_0'), ('23M0812', 'CS230_0'), ('194050014', 'CS105_3'), ('214050010', 'CS152_3'), ('23D0366', 'CS154_2'), ('22M0769', 'CS101_24'), ('23M2109', 'CS101_54'), ('22M2101', 'CS337_2'), ('22D0364', 'CS105_4'), ('22M0816', 'CS101_36'), ('23M0821', 'CS218M_1'), ('23M2106', 'CS101_57'), ('23D0364', 'CS154_4'), ('22M0814', 'CS101_37'), ('23M2103', 'CS101_60'), ('22M0770', 'CS725_0'), ('21Q050017', 'CS101_17'), ('204050007', 'CSEWebteam_1'), ('194050011', 'CS152_11'), ('22M0783', 'CS101_2'), ('21Q050008', 'CS101_19'), ('22M0751', 'CS101_49'), ('23M0814', 'CS228M_4'), ('214050006', 'CS152_2'), ('23M0799', 'CS154_10'), ('22M0813', 'CS101_22'), ('22M0807', 'CS337_3'), ('214050007', 'CS152_10'), ('23M0753', 'CS224M_3'), ('22M0771', 'CS337_5'), ('22M0746', 'CS663_2'), ('23M0743', 'CS310_7'), ('23M0816', 'CS228M_3'), ('22D0368', 'CS747_1'), ('23M0765', 'CS293_10'), ('23M0762', 'CS293_6'), ('23M0819', 'CS293_11'), ('22m2112', 'CS725_4'), ('CS683_0', '21Q050007'), ('22M0793', 'CS101_27'), ('214050004', 'BodhiTree_1'), ('23M0749', 'CS293_7'), ('23M0772', 'CS224M_1'), ('23M0752', 'CS207_5'), ('23M0782', 'CS232_2'), ('23M0779', 'CS232_4'), ('23M0761', 'CS232_12'), ('22M2115', 'CS663_3'), ('22M0811', 'CS101_39'), ('23M0778', 'CS232_5'), ('204050008', 'CS152_6'), ('23D0363', 'CS154_5'), ('21Q050005', 'CS101_50'), ('23M0820', 'CS154_8'), ('22m2113', 'CS347_5'), ('22D0371', 'CS347_1'), ('23M0756', 'CS224M_5'), ('22M0750', 'CS101_75'), ('204050001', 'CS105_0'), ('23M0817', 'CS228M_2'), ('22M0792', 'CS101_18'), ('194050003', 'CS152_5'), ('22M2105', 'CS6001_1'), ('194050006', 'CS213_1'), ('22M2114', 'CS101_33'), ('23M0757', 'CS310_1'), ('22M0773', 'CS101_14'), ('22M0802', 'CS337_4'), ('22M0788', 'CS101_44'), ('23M0818', 'CS228M_1'), ('22M2108', 'CS774_0'), ('22D0382', 'CS152_7'), ('22M0754', 'CS215_1'), ('23M0769', 'CS232_9'), ('23M0774', 'CS293_1'), ('23M0815', 'CS224M_4'), ('22M0817', 'CS602_1'), ('22M0799', 'CS101_42'), ('22M0791', 'CS101_43'), ('22D0362', 'CS105_6'), ('CS6001_0', '22M2106'), ('22m0760', 'CS101_3'), ('23D0362', 'CS154_6'), ('204050010', 'BodhiTree_0'), ('23M0808', 'CS230_4'), ('23M0783', 'CS224M_0'), ('CS213_0', '21Q050015'), ('22M0748', 'CS101_16'), ('22m0796', 'CS101_23'), ('CS337_0', '21Q050014'), ('22M0789', 'CS347_7'), ('23M0777', 'CS232_6'), ('22m0747', 'CS771_0'), ('22D0377', 'CS152_8'), ('22M0815', 'CS101_6'), ('194050015', 'CS101_1'), ('194054001', 'CS105_5'), ('22M0803', 'CS101_31'), ('23M0775', 'CS232_7'), ('23M0793', 'CS230_8'), ('23M0804', 'CS230_6'), ('22D0366', 'CS152_4'), ('22M2109', 'CS347_8'), ('22M0759', 'CS683_1'), ('22M0787', 'CS101_45'), ('22M0764', 'CS101_10'), ('194050001', 'CS347_2'), ('23M0760', 'CS224M_2'), ('23M0803', 'CS207_6'), ('23M0763', 'CS207_4'), ('194050012', 'CS337_1'), ('23M0798', 'CS218M_3'), ('22m0829', 'CS101_35'), ('23M0802', 'CS230_7'), ('23M0806', 'CS154_12'), ('23M0746', 'CS310_5'), ('21Q050006', 'CS663_0'), ('22M2110', 'CS725_5'), ('22M0777', 'CS741_0'), ('22M2104', 'CS101_34'), ('194050010', 'CS747_2'), ('22M0781', 'CS725_7'), ('22m0780', 'CS101_46'), ('22m0756', 'CS101_15'), ('23M0776', 'CS293_9'), ('23M0741', 'CS218M_0'), ('21Q050004', 'CS101_11'), ('22D0369', 'KVportal_0'), ('194050002', 'CS152_0'), ('22m0800', 'CS663_5'), ('22D0361', 'InstiWebteam_0'), ('23M0745', 'CS310_6'), ('23M0789', 'CS207_3'), ('23M0787', 'CS230_12'), ('23M0788', 'CS230_11'), ('23M2104', 'CS101_59'), ('CS475_0', '23M0758'), ('23M0792', 'CS230_9'), ('22M0804', 'CS101_5'), ('21Q050016', 'CS725_2'), ('23M0780', 'CS232_3'), ('22m0772', 'CS215_0'), ('23M0811', 'CS230_1'), ('23M2107', 'CS101_56'), ('204050003', 'DeptWork_2'), ('23d0361', 'CS154_7'), ('22M0761', 'CS347_10'), ('22M2111', 'CS663_4'), ('194050004', 'CS152_12'), ('23M0791', 'CS293_13'), ('22M0779', 'CS614_0'), ('22D0367', 'CS105_1'), ('22M0808', 'CS347_9'), ('214050008', 'CS105_7'), ('21Q050001', 'CS101_51'), ('23d0373', 'CS154_1'), ('23M0810', 'CS230_2'), ('22D0376', 'CS347_3'), ('22M0744', 'CS101_7'), ('22m0745', 'CS101_20'), ('23M0750', 'CS310_3'), ('214050009', 'CS152_9'), ('23D0365', 'CS154_3'), ('23M0744', 'CS207_2'), ('22M0753', 'CS101_48'), ('22M0766', 'CS604_0'), ('22M0755', 'CS768_0'), ('23D0374', 'CS213_2'), ('22M0778', 'CS101_12'), ('23M0768', 'CS293_2'), ('22M0784', 'CS101_28'), ('23M0809', 'CS230_3'), ('23M0759', 'CS310_0'), ('CS101_0', '23M2101'), ('CS347_0', '22M0790'), ('22M0821', 'CS725_6'), ('23M2102', 'CS101_61'), ('23M0742', 'CS602_0'), ('22M2103', 'CS101_8'), ('22M0763', 'CS101_25'), ('22M0782', 'CS347_6'), ('23M0771', 'CS207_1'), ('22M0752', 'CS347_4'), ('23M0784', 'CS293_0'), ('214050005', 'CS152_1'), ('21Q050003', 'CS347_12'), ('22M0743', 'CS337_6'), ('23D0381', 'CS154_0'), ('23M0748', 'CS310_4'), ('23M0781', 'CS207_0'), ('23M0800', 'CS293_8'), ('23M0751', 'CS310_2'), ('22M0801', 'CS337_7'), ('22M0810', 'CS663_1'), ('22M0812', 'CS101_38'), ('23M0790', 'CS230_10'), ('23M0801', 'CS154_9'), ('23M0785', 'CS232_1'), ('22M0749', 'CS101_26'), ('22M0765', 'CS101_9'), ('22M0774', 'CS101_29'), ('22M0762', 'CS101_47'), ('194050013', 'SysadTA_0'), ('23M0754', 'CS228M_0'), ('22M0757', 'CS101_4'), ('23M0813', 'CS218M_2'), ('21Q050012', 'CS725_3'), ('22M0776', 'CS758_0'), ('23M2110', 'CS101_53'), ('23M2108', 'CS101_55'), ('22D0363', 'CS105_2'), ('23M0807', 'CS213_3'), ('23M0767', 'CS232_10'), ('23M2112', 'CS101_52'), ('23M0786', 'CS232_0')}\n"
     ]
    }
   ],
   "source": [
    "from my_matching import *\n",
    "m,w=matching(d2,d1)\n",
    "print(m)\n"
   ]
  },
  {
   "cell_type": "code",
   "execution_count": 53,
   "metadata": {},
   "outputs": [],
   "source": [
    "l=[]\n",
    "for t in m:\n",
    "    if t[0][0]!='1' and t[0][0]!='2':\n",
    "        l.append([t[0],t[1]])\n",
    "    else:\n",
    "        l.append([t[1],t[0]])\n",
    "\n",
    "\n",
    "# Remove the part after the underscore in course names\n",
    "data = [[course.split('_')[0], course_code] for course, course_code in l]\n",
    "\n",
    "# Create a DataFrame from the modified data\n",
    "df = pd.DataFrame(data, columns=['Course', 'Roll No'])\n",
    "\n",
    "# Write the DataFrame to a CSV file\n",
    "csv_file = 'output.csv'\n",
    "df.to_csv(csv_file, index=False)\n",
    "        "
   ]
  },
  {
   "cell_type": "code",
   "execution_count": 64,
   "metadata": {},
   "outputs": [
    {
     "name": "stdout",
     "output_type": "stream",
     "text": [
      "118\n",
      "60\n",
      "64\n"
     ]
    }
   ],
   "source": [
    "\n",
    "import pandas as pd\n",
    "df1=pd.read_csv(\"course_info_roll.csv\")\n",
    "df2=pd.read_csv(\"output.csv\")\n",
    "df3=pd.read_csv(\"mappings.csv\")\n",
    "courses_list=list(set(df1[\"Course\"]))\n",
    "rolls=list(df1['Roll No'])\n",
    "total_data=[]\n",
    "requests=0\n",
    "alloted_before=0\n",
    "alloted_matching=0\n",
    "for c in courses_list:\n",
    "    count1=0\n",
    "    count2=0\n",
    "    for r in course_imp[c]:\n",
    "        if df1[df1['Roll No']==r].iloc[0,0] == df2[df2['Roll No'] == r].iloc[0,0]:\n",
    "            count1+=1\n",
    "        if df1[df1['Roll No']==r].iloc[0,0] == df3[df3['Roll No'] == r].iloc[0,2]:\n",
    "            count2+=1\n",
    "    requests+=len(course_imp[c])\n",
    "    alloted_before+=count2\n",
    "    alloted_matching+=count1\n",
    "    total_data.append([c,len(course_imp[c]),count2,count1])\n",
    "    \n",
    "    # print(f\"Course name:{c} Requests:{len(course_imp[c])} Originally Allocated:{count2} Allocated By Matching:{count1}\\n\")\n",
    "\n",
    "result_df = pd.DataFrame(total_data, columns=['Course', 'No of Requests', 'Originally Allocated last year','Allocated by Maxium Matching'])\n",
    "\n",
    "result_df.to_csv('analysis.csv', index=False)\n",
    "print(requests)\n",
    "print(alloted_before)\n",
    "print(alloted_matching)\n"
   ]
  },
  {
   "cell_type": "code",
   "execution_count": null,
   "metadata": {},
   "outputs": [],
   "source": []
  }
 ],
 "metadata": {
  "kernelspec": {
   "display_name": "Python 3",
   "language": "python",
   "name": "python3"
  },
  "language_info": {
   "codemirror_mode": {
    "name": "ipython",
    "version": 3
   },
   "file_extension": ".py",
   "mimetype": "text/x-python",
   "name": "python",
   "nbconvert_exporter": "python",
   "pygments_lexer": "ipython3",
   "version": "3.9.6"
  }
 },
 "nbformat": 4,
 "nbformat_minor": 2
}
